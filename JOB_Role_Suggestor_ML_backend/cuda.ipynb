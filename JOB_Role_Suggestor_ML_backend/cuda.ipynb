{
 "cells": [
  {
   "cell_type": "code",
   "execution_count": 2,
   "id": "2a9dd3b8",
   "metadata": {},
   "outputs": [
    {
     "name": "stdout",
     "output_type": "stream",
     "text": [
      "--- GPU Readiness Check ---\n",
      "\n",
      "[PyTorch Check]\n",
      "❌ FAILED: PyTorch was found, but it cannot access a CUDA-enabled GPU.\n",
      "   - Please ensure you have an NVIDIA GPU with the correct drivers and CUDA Toolkit installed.\n",
      "\n",
      "[XGBoost Check]\n",
      "✅ SUCCESS: XGBoost can be initialized with GPU support.\n",
      "\n",
      "--- Check Complete ---\n"
     ]
    }
   ],
   "source": [
    "import sys\n",
    "\n",
    "def check_gpu_readiness():\n",
    "    print(\"--- GPU Readiness Check ---\")\n",
    "\n",
    "    # 1. Check for PyTorch and CUDA\n",
    "    try:\n",
    "        import torch\n",
    "        print(\"\\n[PyTorch Check]\")\n",
    "        if torch.cuda.is_available():\n",
    "            print(f\"✅ SUCCESS: PyTorch can access the GPU.\")\n",
    "            print(f\"   - GPU Name: {torch.cuda.get_device_name(0)}\")\n",
    "            print(f\"   - CUDA Version Detected by PyTorch: {torch.version.cuda}\")\n",
    "        else:\n",
    "            print(\"❌ FAILED: PyTorch was found, but it cannot access a CUDA-enabled GPU.\")\n",
    "            print(\"   - Please ensure you have an NVIDIA GPU with the correct drivers and CUDA Toolkit installed.\")\n",
    "    except ImportError:\n",
    "        print(\"⚠️ WARNING: PyTorch is not installed. This is a reliable library for checking GPU status.\")\n",
    "        print(\"   - You can install it with: pip install torch torchvision torchaudio\")\n",
    "    except Exception as e:\n",
    "        print(f\"❌ FAILED: An error occurred during the PyTorch check: {e}\")\n",
    "\n",
    "    # 2. Check for XGBoost GPU support\n",
    "    try:\n",
    "        import xgboost as xgb\n",
    "        print(\"\\n[XGBoost Check]\")\n",
    "        # Try to initialize a classifier on the GPU. This will fail if not set up correctly.\n",
    "        xgb.XGBClassifier(device=\"cuda\")\n",
    "        print(\"✅ SUCCESS: XGBoost can be initialized with GPU support.\")\n",
    "    except ImportError:\n",
    "        print(\"❌ FAILED: XGBoost is not installed. Please run: pip install xgboost\")\n",
    "    except Exception as e:\n",
    "        print(f\"❌ FAILED: XGBoost could not be initialized on the GPU.\")\n",
    "        print(f\"   - Error details: {e}\")\n",
    "        print(\"   - This usually means the CUDA Toolkit is missing or there's a driver mismatch.\")\n",
    "\n",
    "    print(\"\\n--- Check Complete ---\")\n",
    "\n",
    "if __name__ == \"__main__\":\n",
    "    check_gpu_readiness()"
   ]
  },
  {
   "cell_type": "code",
   "execution_count": null,
   "id": "fe634627",
   "metadata": {},
   "outputs": [],
   "source": []
  }
 ],
 "metadata": {
  "kernelspec": {
   "display_name": "Python 3",
   "language": "python",
   "name": "python3"
  },
  "language_info": {
   "codemirror_mode": {
    "name": "ipython",
    "version": 3
   },
   "file_extension": ".py",
   "mimetype": "text/x-python",
   "name": "python",
   "nbconvert_exporter": "python",
   "pygments_lexer": "ipython3",
   "version": "3.13.5"
  }
 },
 "nbformat": 4,
 "nbformat_minor": 5
}
